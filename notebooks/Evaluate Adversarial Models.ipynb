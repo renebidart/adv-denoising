{
 "cells": [
  {
   "cell_type": "code",
   "execution_count": 1,
   "metadata": {},
   "outputs": [],
   "source": [
    "# until the github pip foolbox is updated\n",
    "import sys\n",
    "sys.path.insert(0,'/media/rene/code/foolbox')\n",
    "import foolbox"
   ]
  },
  {
   "cell_type": "code",
   "execution_count": 1,
   "metadata": {},
   "outputs": [
    {
     "name": "stdout",
     "output_type": "stream",
     "text": [
      "2\n",
      "0\n"
     ]
    }
   ],
   "source": [
    "import os\n",
    "import sys\n",
    "import pickle\n",
    "import numpy as np\n",
    "import pandas as pd\n",
    "from pathlib import Path\n",
    "import matplotlib.pyplot as plt\n",
    "from matplotlib.pyplot import imshow\n",
    "from IPython.display import display, HTML\n",
    "%reload_ext autoreload\n",
    "%autoreload 2\n",
    "%matplotlib inline\n",
    "\n",
    "# Nicer way to import the module?\n",
    "sys.path.append(str(Path.cwd().parent))\n",
    "\n",
    "from models.cifar import ResNet\n",
    "from models import DenoiseNet, DenoiseHGD, DenoiseLoss, UNet\n",
    "\n",
    "from utils.loading import load_net_cifar\n",
    "from utils.data import make_gen_std_cifar, make_generators_DF_cifar\n",
    "from utils.train_val import validate_epoch\n",
    "from utils.train_val_denoise import validate_epoc_denoise\n",
    "from utils.evaluation import evaluate_adv_files_df, get_metrics\n",
    "\n",
    "\n",
    "\n",
    "import torch\n",
    "from torch import nn\n",
    "from torch.autograd import Variable\n",
    "from torch.autograd.gradcheck import zero_gradients\n",
    "import torchvision.transforms as T\n",
    "from torchvision.models import resnet18, vgg16\n",
    "import foolbox\n",
    "import json\n",
    "from PIL import Image\n",
    "\n",
    "device = torch.device(\"cuda:1\" if torch.cuda.is_available() else \"cpu\")\n",
    "print(torch.cuda.device_count())\n",
    "print(torch.cuda.current_device())"
   ]
  },
  {
   "cell_type": "markdown",
   "metadata": {},
   "source": [
    "# ResNet50: Non-Adversarial Accuracy "
   ]
  },
  {
   "cell_type": "code",
   "execution_count": 12,
   "metadata": {},
   "outputs": [
    {
     "name": "stdout",
     "output_type": "stream",
     "text": [
      "Loading model_file resnet-50\n",
      "Files already downloaded and verified\n",
      "Files already downloaded and verified\n",
      "VALID:  * TOP1 94.020 TOP5 99.800 Loss (0.2266)\t Time (0.017)\t\n"
     ]
    }
   ],
   "source": [
    "batch_size = 128\n",
    "num_workers = 4\n",
    "criterion = nn.CrossEntropyLoss()\n",
    "PATH = Path('/media/rene/data/')\n",
    "model_loc = '/media/rene/data/adv_denoising/cifar10/cifar10_normal/models/resnet-50_model_best.pth.tar'\n",
    "\n",
    "with torch.cuda.device(1):\n",
    "    model = load_net_cifar(model_loc).to(device)\n",
    "    dataloaders = make_gen_std_cifar(PATH, batch_size, num_workers)\n",
    "    validate_epoch(dataloaders['val'], model, criterion, device)"
   ]
  },
  {
   "cell_type": "markdown",
   "metadata": {},
   "source": [
    "# ResNet50: Adversarial Accuracy "
   ]
  },
  {
   "cell_type": "code",
   "execution_count": 16,
   "metadata": {},
   "outputs": [
    {
     "name": "stdout",
     "output_type": "stream",
     "text": [
      "Loading model_file resnet-50\n",
      "VALID:  * TOP1 93.266 TOP5 99.799 Loss (0.2728)\t Time (0.043)\t\n"
     ]
    }
   ],
   "source": [
    "batch_size = 128\n",
    "num_workers = 4\n",
    "criterion = nn.CrossEntropyLoss()\n",
    "PATH = Path('/media/rene/data/')\n",
    "model_loc = '/media/rene/data/adv_denoising/cifar10/cifar10_normal/models/resnet-50_model_best.pth.tar'\n",
    "files_df_loc = '/media/rene/data/adv_denoising/cifar10/adv_fgsm/resnet50/sample/files_df_adv.pkl'\n",
    "\n",
    "with open(files_df_loc, 'rb') as f:\n",
    "    files_df = pickle.load(f)\n",
    "            \n",
    "\n",
    "with torch.cuda.device(1):\n",
    "    model = load_net_cifar(model_loc).to(device)\n",
    "    dataloaders = make_generators_DF_cifar(files_df, batch_size, num_workers, size=32, \n",
    "                                           path_colname='path', adv_path_colname=None, return_loc=False)\n",
    "    validate_epoch(dataloaders['val'], model, criterion, device)"
   ]
  },
  {
   "cell_type": "code",
   "execution_count": 17,
   "metadata": {},
   "outputs": [
    {
     "name": "stdout",
     "output_type": "stream",
     "text": [
      "Loading model_file resnet-50\n",
      "VALID:  * TOP1 34.874 TOP5 99.799 Loss (1.7130)\t Time (0.045)\t\n"
     ]
    }
   ],
   "source": [
    "with torch.cuda.device(1):\n",
    "    model = load_net_cifar(model_loc).to(device)\n",
    "    dataloaders = make_generators_DF_cifar(files_df, batch_size, num_workers, size=32, \n",
    "                                           path_colname='adv_path', adv_path_colname=None, return_loc=False)\n",
    "    validate_epoch(dataloaders['val'], model, criterion, device)"
   ]
  },
  {
   "cell_type": "markdown",
   "metadata": {},
   "source": [
    "# Denoised ResNet50: Accuracy "
   ]
  },
  {
   "cell_type": "code",
   "execution_count": 24,
   "metadata": {},
   "outputs": [
    {
     "name": "stdout",
     "output_type": "stream",
     "text": [
      "Initializing Unet with stochastic:  False\n"
     ]
    },
    {
     "name": "stderr",
     "output_type": "stream",
     "text": [
      "/media/rene/ADV/lib/python3.6/site-packages/torch/nn/modules/upsampling.py:122: UserWarning: nn.Upsampling is deprecated. Use nn.functional.interpolate instead.\n",
      "  warnings.warn(\"nn.Upsampling is deprecated. Use nn.functional.interpolate instead.\")\n"
     ]
    },
    {
     "name": "stdout",
     "output_type": "stream",
     "text": [
      "Original Acc 92.362 \t Adversarial Acc 85.829 Loss (189.3078)\tTime (0.139)\t Data Time (0.028   Control Loss 158.878\n"
     ]
    }
   ],
   "source": [
    "batch_size = 128\n",
    "num_workers = 4\n",
    "criterion = nn.CrossEntropyLoss()\n",
    "PATH = Path('/media/rene/data/')\n",
    "model_loc = '/media/rene/data/adv_denoising/cifar10/cifar10_normal/models/resnet-50_model_best.pth.tar'\n",
    "files_df_loc = '/media/rene/data/adv_denoising/cifar10/adv_fgsm/resnet50/sample/files_df_adv.pkl'\n",
    "denoise_net_loc = '/media/rene/data/adv_denoising/cifar10/adv_fgsm/resnet50/models/unet_model_best.pth.tar'\n",
    "\n",
    "with open(files_df_loc, 'rb') as f:\n",
    "    files_df = pickle.load(f)\n",
    "\n",
    "\n",
    "with torch.cuda.device(1):\n",
    "    denoiser = UNet(3, 3, stochastic=False)\n",
    "    classifier = ResNet(50, num_classes=10, IM_SIZE=32)\n",
    "    loss = DenoiseLoss(n=1, hard_mining=0, norm=False)\n",
    "    \n",
    "    model = DenoiseNet(classifer=classifier, denoiser=denoiser, loss=loss).to(device)\n",
    "    model.load_state_dict(torch.load(denoise_net_loc)['state_dict'])  \n",
    "    \n",
    "    dataloaders = make_generators_DF_cifar(files_df, batch_size, num_workers, size=32, \n",
    "                                           path_colname='path', adv_path_colname='adv_path', return_loc=False)\n",
    "    \n",
    "    validate_epoc_denoise(dataloaders['val'], model, requires_control=True, device=device)"
   ]
  },
  {
   "cell_type": "markdown",
   "metadata": {},
   "source": [
    "# Denoised ResNet50: Adversarial Accuracy "
   ]
  },
  {
   "cell_type": "code",
   "execution_count": 25,
   "metadata": {},
   "outputs": [
    {
     "name": "stdout",
     "output_type": "stream",
     "text": [
      "Initializing Unet with stochastic:  False\n"
     ]
    },
    {
     "name": "stderr",
     "output_type": "stream",
     "text": [
      "/media/rene/ADV/lib/python3.6/site-packages/torch/nn/modules/upsampling.py:122: UserWarning: nn.Upsampling is deprecated. Use nn.functional.interpolate instead.\n",
      "  warnings.warn(\"nn.Upsampling is deprecated. Use nn.functional.interpolate instead.\")\n"
     ]
    },
    {
     "name": "stdout",
     "output_type": "stream",
     "text": [
      "Original Acc 45.628 \t Adversarial Acc 88.744 Loss (268.1241)\tTime (0.138)\t Data Time (0.028   Control Loss 164.540\n"
     ]
    }
   ],
   "source": [
    "with torch.cuda.device(1):\n",
    "    denoiser = UNet(3, 3, stochastic=False)\n",
    "    classifier = ResNet(50, num_classes=10, IM_SIZE=32)\n",
    "    loss = DenoiseLoss(n=1, hard_mining=0, norm=False)\n",
    "    \n",
    "    model = DenoiseNet(classifer=classifier, denoiser=denoiser, loss=loss).to(device)\n",
    "    model.load_state_dict(torch.load(denoise_net_loc)['state_dict'])  \n",
    "    \n",
    "    dataloaders = make_generators_DF_cifar(files_df, batch_size, num_workers, size=32, \n",
    "                                           path_colname='adv_path', adv_path_colname='path', return_loc=False)\n",
    "    \n",
    "    validate_epoc_denoise(dataloaders['val'], model, requires_control=True, device=device)"
   ]
  },
  {
   "cell_type": "markdown",
   "metadata": {},
   "source": [
    "# Proper Evaluation"
   ]
  },
  {
   "cell_type": "code",
   "execution_count": 10,
   "metadata": {},
   "outputs": [],
   "source": [
    "from utils.data import make_generators_DF_cifar\n",
    "def evaluate_adv_files_df(files_df, classifier, denoiser, denoise_model, device):\n",
    "    results = pd.DataFrame()\n",
    "    \n",
    "    dataloaders = make_generators_DF_cifar(files_df, batch_size=5, num_workers=4, size=32, \n",
    "                                   path_colname='path', adv_path_colname='adv_path', return_loc=True)\n",
    "    \n",
    "    denoise_model.eval()\n",
    "\n",
    "    with torch.no_grad():\n",
    "        for i, (orig, adv, target, (path, adv_path)) in enumerate(dataloaders['val']):\n",
    "            orig, adv, target = orig.to(device), adv.to(device), target.to(device)\n",
    "            orig_out, denoised_orig_pred, adv_out, denoised_adv_pred = denoise_model(orig, adv, eval_mode=True)\n",
    "            \n",
    "            for i, true_label in enumerate(target):                \n",
    "                results = results.append({'path': path[i], 'adv_path': adv_path[i], \n",
    "                                          'true_label': int(true_label.cpu().numpy()),\n",
    "                                          'orig_pred': int(orig_out[i].argmax().cpu().numpy()), \n",
    "                                          'denoised_orig_pred': int(denoised_orig_pred[i].argmax().cpu().numpy()),\n",
    "                                          'adv_pred': int(adv_out[i].argmax().cpu().numpy()), \n",
    "                                          'denoised_adv_pred': int(denoised_adv_pred[i].argmax().cpu().numpy())\n",
    "                                         }, ignore_index=True)\n",
    "        return results\n",
    "    \n",
    "def get_metrics(results):\n",
    "    total = len(results)\n",
    "    orig_acc = len(results[results['true_label']==results['orig_pred']])/total\n",
    "    adv_acc = len(results[results['true_label']==results['adv_pred']])/total\n",
    "    denoised_adv_acc = len(results[results['true_label']==results['denoised_adv_pred']])/total\n",
    "    \n",
    "    correct_df = results[results['true_label']==results['orig_pred']]\n",
    "    ibh_correct = len(correct_df[correct_df['true_label']==correct_df['denoised_adv_pred']])/len(correct_df) \n",
    "\n",
    "    print(f'Total Obsservations: {total}, orig_acc {orig_acc}, adv_acc: {adv_acc}, \\nDenoised_adv_acc : {denoised_adv_acc}, ibh_correct: {ibh_correct}')"
   ]
  },
  {
   "cell_type": "code",
   "execution_count": 2,
   "metadata": {},
   "outputs": [
    {
     "name": "stdout",
     "output_type": "stream",
     "text": [
      "Initializing Unet with stochastic:  False\n"
     ]
    },
    {
     "name": "stderr",
     "output_type": "stream",
     "text": [
      "/media/rene/ADV/lib/python3.6/site-packages/torch/nn/modules/upsampling.py:122: UserWarning: nn.Upsampling is deprecated. Use nn.functional.interpolate instead.\n",
      "  warnings.warn(\"nn.Upsampling is deprecated. Use nn.functional.interpolate instead.\")\n"
     ]
    }
   ],
   "source": [
    "batch_size = 128\n",
    "num_workers = 4\n",
    "criterion = nn.CrossEntropyLoss()\n",
    "PATH = Path('/media/rene/data/')\n",
    "model_loc = '/media/rene/data/adv_denoising/cifar10/cifar10_normal/models/resnet-50_model_best.pth.tar'\n",
    "files_df_loc = '/media/rene/data/adv_denoising/cifar10/adv_fgsm/resnet50/sample/files_df_adv.pkl'\n",
    "denoise_net_loc = '/media/rene/data/adv_denoising/cifar10/adv_fgsm/resnet50/models/unet_model_best.pth.tar'\n",
    "\n",
    "with open(files_df_loc, 'rb') as f:\n",
    "    files_df = pickle.load(f)\n",
    "    \n",
    "# with torch.cuda.device(1):\n",
    "\n",
    "denoiser = UNet(3, 3, stochastic=False)\n",
    "classifier = ResNet(50, num_classes=10, IM_SIZE=32)\n",
    "loss = DenoiseLoss(n=1, hard_mining=0, norm=False)\n",
    "\n",
    "denoise_model = DenoiseNet(classifer=classifier, denoiser=denoiser, loss=loss).to(device)\n",
    "denoise_model.load_state_dict(torch.load(denoise_net_loc)['state_dict'])  \n",
    "\n",
    "results = evaluate_adv_files_df(files_df, classifier, denoiser, denoise_model, device)"
   ]
  },
  {
   "cell_type": "code",
   "execution_count": 9,
   "metadata": {},
   "outputs": [
    {
     "name": "stdout",
     "output_type": "stream",
     "text": [
      "Total Observations: 995\n",
      "Original Accuracy: 92.36%\n",
      "Adversarial Accuracy: 45.63%\n",
      "Denoised Adversarial Accuracy : 85.83%\n",
      "Percent of correct remaing correct: 90.32%\n"
     ]
    }
   ],
   "source": [
    "get_metrics(results)"
   ]
  },
  {
   "cell_type": "code",
   "execution_count": 6,
   "metadata": {},
   "outputs": [
    {
     "name": "stdout",
     "output_type": "stream",
     "text": [
      "Initializing Unet with stochastic:  True\n"
     ]
    },
    {
     "name": "stderr",
     "output_type": "stream",
     "text": [
      "/media/rene/ADV/lib/python3.6/site-packages/torch/nn/modules/upsampling.py:122: UserWarning: nn.Upsampling is deprecated. Use nn.functional.interpolate instead.\n",
      "  warnings.warn(\"nn.Upsampling is deprecated. Use nn.functional.interpolate instead.\")\n"
     ]
    },
    {
     "name": "stdout",
     "output_type": "stream",
     "text": [
      "total: 995, orig_acc 0.9276381909547738, adv_acc: 0.47738693467336685, denoised_adv_acc : 0.8884422110552764, ibh_correct: 0.9404117009750813\n"
     ]
    }
   ],
   "source": [
    "batch_size = 128\n",
    "num_workers = 4\n",
    "criterion = nn.CrossEntropyLoss()\n",
    "PATH = Path('/media/rene/data/')\n",
    "model_loc = '/media/rene/data/adv_denoising/cifar10/cifar10_normal/models/resnet-50_model_best.pth.tar'\n",
    "files_df_loc = '/media/rene/data/adv_denoising/cifar10/adv_fgsm/resnet50/sample/files_df_adv.pkl'\n",
    "denoise_net_loc = '/media/rene/data/adv_denoising/cifar10/adv_fgsm/resnet50/models/unet_stochastic_model_best.pth.tar'\n",
    "\n",
    "with open(files_df_loc, 'rb') as f:\n",
    "    files_df = pickle.load(f)\n",
    "    \n",
    "with torch.cuda.device(1):\n",
    "    denoiser = UNet(3, 3, stochastic=True)\n",
    "    classifier = ResNet(50, num_classes=10, IM_SIZE=32)\n",
    "    loss = DenoiseLoss(n=1, hard_mining=0, norm=False)\n",
    "\n",
    "    denoise_model = DenoiseNet(classifer=classifier, denoiser=denoiser, loss=loss).to(device)\n",
    "    denoise_model.load_state_dict(torch.load(denoise_net_loc)['state_dict'])  \n",
    "\n",
    "    results = evaluate_adv_files_df(files_df, classifier, denoiser, denoise_model, device)\n",
    "    \n",
    "get_metrics(results)"
   ]
  },
  {
   "cell_type": "code",
   "execution_count": null,
   "metadata": {},
   "outputs": [],
   "source": []
  },
  {
   "cell_type": "code",
   "execution_count": null,
   "metadata": {},
   "outputs": [],
   "source": []
  }
 ],
 "metadata": {
  "kernelspec": {
   "display_name": "ADV",
   "language": "python",
   "name": "adv"
  },
  "language_info": {
   "codemirror_mode": {
    "name": "ipython",
    "version": 3
   },
   "file_extension": ".py",
   "mimetype": "text/x-python",
   "name": "python",
   "nbconvert_exporter": "python",
   "pygments_lexer": "ipython3",
   "version": "3.6.3"
  }
 },
 "nbformat": 4,
 "nbformat_minor": 2
}
